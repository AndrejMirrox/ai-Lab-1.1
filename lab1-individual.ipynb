{
 "cells": [
  {
   "cell_type": "code",
   "execution_count": 3,
   "metadata": {},
   "outputs": [
    {
     "name": "stdout",
     "output_type": "stream",
     "text": [
      "[1, 2, 3, 0, 4, 2]\n",
      "Yes\n"
     ]
    }
   ],
   "source": [
    "# первое задание СЧАСТЛИВЫЙ БИЛЕТИК\n",
    "ticket_number = 123042\n",
    "tick = list(map(int, str(ticket_number)))\n",
    "print(tick)\n",
    "if sum(tick[0:2+1]) == sum(tick[3:5+1]):\n",
    "    print(\"Yes\")\n",
    "else:\n",
    "    print(\"No\")"
   ]
  },
  {
   "cell_type": "code",
   "execution_count": 4,
   "metadata": {},
   "outputs": [],
   "source": [
    "# конец первого задания"
   ]
  },
  {
   "cell_type": "code",
   "execution_count": 5,
   "metadata": {},
   "outputs": [
    {
     "name": "stdout",
     "output_type": "stream",
     "text": [
      "strong\n"
     ]
    }
   ],
   "source": [
    "# второе задание ПАРОЛЬ\n",
    "name = \"Andrei\"\n",
    "password = \"an12dRei\"\n",
    "if not(password == password.lower() or password.upper() == password or password.isalpha() or password.isdigit() \n",
    "   or len(set(password)) < 4 or name.lower() in password.lower()):\n",
    "  print(\"strong\")\n",
    "else:\n",
    "  print(\"weak\")\n"
   ]
  },
  {
   "cell_type": "code",
   "execution_count": 7,
   "metadata": {},
   "outputs": [],
   "source": [
    "# конец второго задания"
   ]
  },
  {
   "cell_type": "code",
   "execution_count": 23,
   "metadata": {},
   "outputs": [
    {
     "name": "stdout",
     "output_type": "stream",
     "text": [
      "Ввелите число: 10\n",
      "1 1 2 3 5 8 13 21 34 55 "
     ]
    }
   ],
   "source": [
    "# третье залание ЧИСЛА ФИБОНАЧИ\n",
    "amount = int(input(\"Ввелите число: \"))\n",
    "fibonach1 = fibonach2 = 1\n",
    "print(fibonach1, fibonach2, end=' ')\n",
    "for i in range(2, amount):\n",
    "    fibonach1, fibonach2 = fibonach2, fibonach1 + fibonach2\n",
    "    print(fibonach2, end=' ')"
   ]
  },
  {
   "cell_type": "code",
   "execution_count": 24,
   "metadata": {},
   "outputs": [],
   "source": [
    "# конец третьего задания"
   ]
  },
  {
   "cell_type": "code",
   "execution_count": null,
   "metadata": {},
   "outputs": [],
   "source": []
  }
 ],
 "metadata": {
  "kernelspec": {
   "display_name": "Python 3",
   "language": "python",
   "name": "python3"
  },
  "language_info": {
   "codemirror_mode": {
    "name": "ipython",
    "version": 3
   },
   "file_extension": ".py",
   "mimetype": "text/x-python",
   "name": "python",
   "nbconvert_exporter": "python",
   "pygments_lexer": "ipython3",
   "version": "3.8.3"
  }
 },
 "nbformat": 4,
 "nbformat_minor": 4
}
